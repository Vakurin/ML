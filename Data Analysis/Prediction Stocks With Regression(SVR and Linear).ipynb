{
 "cells": [
  {
   "cell_type": "code",
   "execution_count": 4,
   "metadata": {},
   "outputs": [],
   "source": [
    "import pandas as pd\n",
    "import quandl, math, datetime\n",
    "import numpy as np\n",
    "from sklearn import preprocessing, model_selection, svm\n",
    "from sklearn.linear_model import LinearRegression\n",
    "import matplotlib.pyplot as plt\n",
    "from matplotlib import style\n",
    "import pickle"
   ]
  },
  {
   "cell_type": "code",
   "execution_count": 2,
   "metadata": {},
   "outputs": [],
   "source": [
    "style.use('ggplot')"
   ]
  },
  {
   "cell_type": "code",
   "execution_count": 3,
   "metadata": {},
   "outputs": [],
   "source": [
    "df = quandl.get('WIKI/GOOGL')"
   ]
  },
  {
   "cell_type": "code",
   "execution_count": 4,
   "metadata": {},
   "outputs": [
    {
     "data": {
      "text/html": [
       "<div>\n",
       "<style scoped>\n",
       "    .dataframe tbody tr th:only-of-type {\n",
       "        vertical-align: middle;\n",
       "    }\n",
       "\n",
       "    .dataframe tbody tr th {\n",
       "        vertical-align: top;\n",
       "    }\n",
       "\n",
       "    .dataframe thead th {\n",
       "        text-align: right;\n",
       "    }\n",
       "</style>\n",
       "<table border=\"1\" class=\"dataframe\">\n",
       "  <thead>\n",
       "    <tr style=\"text-align: right;\">\n",
       "      <th></th>\n",
       "      <th>Open</th>\n",
       "      <th>High</th>\n",
       "      <th>Low</th>\n",
       "      <th>Close</th>\n",
       "      <th>Volume</th>\n",
       "      <th>Ex-Dividend</th>\n",
       "      <th>Split Ratio</th>\n",
       "      <th>Adj. Open</th>\n",
       "      <th>Adj. High</th>\n",
       "      <th>Adj. Low</th>\n",
       "      <th>Adj. Close</th>\n",
       "      <th>Adj. Volume</th>\n",
       "    </tr>\n",
       "    <tr>\n",
       "      <th>Date</th>\n",
       "      <th></th>\n",
       "      <th></th>\n",
       "      <th></th>\n",
       "      <th></th>\n",
       "      <th></th>\n",
       "      <th></th>\n",
       "      <th></th>\n",
       "      <th></th>\n",
       "      <th></th>\n",
       "      <th></th>\n",
       "      <th></th>\n",
       "      <th></th>\n",
       "    </tr>\n",
       "  </thead>\n",
       "  <tbody>\n",
       "    <tr>\n",
       "      <th>2004-08-19</th>\n",
       "      <td>100.01</td>\n",
       "      <td>104.06</td>\n",
       "      <td>95.96</td>\n",
       "      <td>100.335</td>\n",
       "      <td>44659000.0</td>\n",
       "      <td>0.0</td>\n",
       "      <td>1.0</td>\n",
       "      <td>50.159839</td>\n",
       "      <td>52.191109</td>\n",
       "      <td>48.128568</td>\n",
       "      <td>50.322842</td>\n",
       "      <td>44659000.0</td>\n",
       "    </tr>\n",
       "    <tr>\n",
       "      <th>2004-08-20</th>\n",
       "      <td>101.01</td>\n",
       "      <td>109.08</td>\n",
       "      <td>100.50</td>\n",
       "      <td>108.310</td>\n",
       "      <td>22834300.0</td>\n",
       "      <td>0.0</td>\n",
       "      <td>1.0</td>\n",
       "      <td>50.661387</td>\n",
       "      <td>54.708881</td>\n",
       "      <td>50.405597</td>\n",
       "      <td>54.322689</td>\n",
       "      <td>22834300.0</td>\n",
       "    </tr>\n",
       "    <tr>\n",
       "      <th>2004-08-23</th>\n",
       "      <td>110.76</td>\n",
       "      <td>113.48</td>\n",
       "      <td>109.05</td>\n",
       "      <td>109.400</td>\n",
       "      <td>18256100.0</td>\n",
       "      <td>0.0</td>\n",
       "      <td>1.0</td>\n",
       "      <td>55.551482</td>\n",
       "      <td>56.915693</td>\n",
       "      <td>54.693835</td>\n",
       "      <td>54.869377</td>\n",
       "      <td>18256100.0</td>\n",
       "    </tr>\n",
       "    <tr>\n",
       "      <th>2004-08-24</th>\n",
       "      <td>111.24</td>\n",
       "      <td>111.60</td>\n",
       "      <td>103.57</td>\n",
       "      <td>104.870</td>\n",
       "      <td>15247300.0</td>\n",
       "      <td>0.0</td>\n",
       "      <td>1.0</td>\n",
       "      <td>55.792225</td>\n",
       "      <td>55.972783</td>\n",
       "      <td>51.945350</td>\n",
       "      <td>52.597363</td>\n",
       "      <td>15247300.0</td>\n",
       "    </tr>\n",
       "    <tr>\n",
       "      <th>2004-08-25</th>\n",
       "      <td>104.76</td>\n",
       "      <td>108.00</td>\n",
       "      <td>103.88</td>\n",
       "      <td>106.000</td>\n",
       "      <td>9188600.0</td>\n",
       "      <td>0.0</td>\n",
       "      <td>1.0</td>\n",
       "      <td>52.542193</td>\n",
       "      <td>54.167209</td>\n",
       "      <td>52.100830</td>\n",
       "      <td>53.164113</td>\n",
       "      <td>9188600.0</td>\n",
       "    </tr>\n",
       "  </tbody>\n",
       "</table>\n",
       "</div>"
      ],
      "text/plain": [
       "              Open    High     Low    Close      Volume  Ex-Dividend  \\\n",
       "Date                                                                   \n",
       "2004-08-19  100.01  104.06   95.96  100.335  44659000.0          0.0   \n",
       "2004-08-20  101.01  109.08  100.50  108.310  22834300.0          0.0   \n",
       "2004-08-23  110.76  113.48  109.05  109.400  18256100.0          0.0   \n",
       "2004-08-24  111.24  111.60  103.57  104.870  15247300.0          0.0   \n",
       "2004-08-25  104.76  108.00  103.88  106.000   9188600.0          0.0   \n",
       "\n",
       "            Split Ratio  Adj. Open  Adj. High   Adj. Low  Adj. Close  \\\n",
       "Date                                                                   \n",
       "2004-08-19          1.0  50.159839  52.191109  48.128568   50.322842   \n",
       "2004-08-20          1.0  50.661387  54.708881  50.405597   54.322689   \n",
       "2004-08-23          1.0  55.551482  56.915693  54.693835   54.869377   \n",
       "2004-08-24          1.0  55.792225  55.972783  51.945350   52.597363   \n",
       "2004-08-25          1.0  52.542193  54.167209  52.100830   53.164113   \n",
       "\n",
       "            Adj. Volume  \n",
       "Date                     \n",
       "2004-08-19   44659000.0  \n",
       "2004-08-20   22834300.0  \n",
       "2004-08-23   18256100.0  \n",
       "2004-08-24   15247300.0  \n",
       "2004-08-25    9188600.0  "
      ]
     },
     "execution_count": 4,
     "metadata": {},
     "output_type": "execute_result"
    }
   ],
   "source": [
    "df.head()"
   ]
  },
  {
   "cell_type": "code",
   "execution_count": 249,
   "metadata": {
    "collapsed": true
   },
   "outputs": [
    {
     "data": {
      "text/html": [
       "<div>\n",
       "<style scoped>\n",
       "    .dataframe tbody tr th:only-of-type {\n",
       "        vertical-align: middle;\n",
       "    }\n",
       "\n",
       "    .dataframe tbody tr th {\n",
       "        vertical-align: top;\n",
       "    }\n",
       "\n",
       "    .dataframe thead th {\n",
       "        text-align: right;\n",
       "    }\n",
       "</style>\n",
       "<table border=\"1\" class=\"dataframe\">\n",
       "  <thead>\n",
       "    <tr style=\"text-align: right;\">\n",
       "      <th></th>\n",
       "      <th>Adj. Close</th>\n",
       "      <th>HL_PCT</th>\n",
       "      <th>PTC_change</th>\n",
       "      <th>Adj. Volume</th>\n",
       "    </tr>\n",
       "    <tr>\n",
       "      <th>Date</th>\n",
       "      <th></th>\n",
       "      <th></th>\n",
       "      <th></th>\n",
       "      <th></th>\n",
       "    </tr>\n",
       "  </thead>\n",
       "  <tbody>\n",
       "    <tr>\n",
       "      <th>2004-08-19</th>\n",
       "      <td>50.322842</td>\n",
       "      <td>8.441017</td>\n",
       "      <td>0.324968</td>\n",
       "      <td>44659000.0</td>\n",
       "    </tr>\n",
       "    <tr>\n",
       "      <th>2004-08-20</th>\n",
       "      <td>54.322689</td>\n",
       "      <td>8.537313</td>\n",
       "      <td>7.227007</td>\n",
       "      <td>22834300.0</td>\n",
       "    </tr>\n",
       "    <tr>\n",
       "      <th>2004-08-23</th>\n",
       "      <td>54.869377</td>\n",
       "      <td>4.062357</td>\n",
       "      <td>-1.227880</td>\n",
       "      <td>18256100.0</td>\n",
       "    </tr>\n",
       "    <tr>\n",
       "      <th>2004-08-24</th>\n",
       "      <td>52.597363</td>\n",
       "      <td>7.753210</td>\n",
       "      <td>-5.726357</td>\n",
       "      <td>15247300.0</td>\n",
       "    </tr>\n",
       "    <tr>\n",
       "      <th>2004-08-25</th>\n",
       "      <td>53.164113</td>\n",
       "      <td>3.966115</td>\n",
       "      <td>1.183658</td>\n",
       "      <td>9188600.0</td>\n",
       "    </tr>\n",
       "  </tbody>\n",
       "</table>\n",
       "</div>"
      ],
      "text/plain": [
       "            Adj. Close    HL_PCT  PTC_change  Adj. Volume\n",
       "Date                                                     \n",
       "2004-08-19   50.322842  8.441017    0.324968   44659000.0\n",
       "2004-08-20   54.322689  8.537313    7.227007   22834300.0\n",
       "2004-08-23   54.869377  4.062357   -1.227880   18256100.0\n",
       "2004-08-24   52.597363  7.753210   -5.726357   15247300.0\n",
       "2004-08-25   53.164113  3.966115    1.183658    9188600.0"
      ]
     },
     "execution_count": 249,
     "metadata": {},
     "output_type": "execute_result"
    }
   ],
   "source": [
    "#Did features  - функции\n",
    "#high lower procent\n",
    "df['HL_PCT']     = (df[\"Adj. High\"] - df[\"Adj. Low\"]) / df[\"Adj. Low\"] * 100.0\n",
    "df['PTC_change'] = (df[\"Adj. Close\"] - df[\"Adj. Open\"]) / df[\"Adj. Open\"] * 100.0\n",
    "df = df[['Adj. Close', 'HL_PCT', 'PTC_change', 'Adj. Volume']]\n",
    "df.head()"
   ]
  },
  {
   "cell_type": "code",
   "execution_count": 250,
   "metadata": {},
   "outputs": [],
   "source": [
    "#Define label\n",
    "forecast_column = 'Adj. Close'    #forecast - прогноз \n",
    "df.fillna(-99999, inplace=True)   #ML don't read nan date, so we replace in smt"
   ]
  },
  {
   "cell_type": "code",
   "execution_count": 210,
   "metadata": {
    "scrolled": true
   },
   "outputs": [
    {
     "data": {
      "text/plain": [
       "1"
      ]
     },
     "execution_count": 210,
     "metadata": {},
     "output_type": "execute_result"
    }
   ],
   "source": [
    "math.ceil(0.01 * 14)\n",
    "#type = int"
   ]
  },
  {
   "cell_type": "code",
   "execution_count": 251,
   "metadata": {},
   "outputs": [],
   "source": [
    "#Try it prediction 10% dataframe\n",
    "forecast_out = math.ceil(0.1 * len(df))\n",
    "#math.ceil() – округление до ближайшего большего числа."
   ]
  },
  {
   "cell_type": "code",
   "execution_count": 252,
   "metadata": {},
   "outputs": [],
   "source": [
    "#.shift move, minus moved in down \n",
    "df['label'] = df[forecast_column].shift(-forecast_out)\n",
    "#На место сдвинутых образуется nan, поэтому мы заменяем его"
   ]
  },
  {
   "cell_type": "code",
   "execution_count": 153,
   "metadata": {},
   "outputs": [
    {
     "data": {
      "text/html": [
       "<div>\n",
       "<style scoped>\n",
       "    .dataframe tbody tr th:only-of-type {\n",
       "        vertical-align: middle;\n",
       "    }\n",
       "\n",
       "    .dataframe tbody tr th {\n",
       "        vertical-align: top;\n",
       "    }\n",
       "\n",
       "    .dataframe thead th {\n",
       "        text-align: right;\n",
       "    }\n",
       "</style>\n",
       "<table border=\"1\" class=\"dataframe\">\n",
       "  <thead>\n",
       "    <tr style=\"text-align: right;\">\n",
       "      <th></th>\n",
       "      <th>Adj. Close</th>\n",
       "      <th>HL_PCT</th>\n",
       "      <th>PTC_change</th>\n",
       "      <th>Adj. Volume</th>\n",
       "      <th>label</th>\n",
       "    </tr>\n",
       "    <tr>\n",
       "      <th>Date</th>\n",
       "      <th></th>\n",
       "      <th></th>\n",
       "      <th></th>\n",
       "      <th></th>\n",
       "      <th></th>\n",
       "    </tr>\n",
       "  </thead>\n",
       "  <tbody>\n",
       "    <tr>\n",
       "      <th>2016-11-04</th>\n",
       "      <td>781.10</td>\n",
       "      <td>2.266615</td>\n",
       "      <td>1.270582</td>\n",
       "      <td>1970603.0</td>\n",
       "      <td>1094.00</td>\n",
       "    </tr>\n",
       "    <tr>\n",
       "      <th>2016-11-07</th>\n",
       "      <td>802.03</td>\n",
       "      <td>1.526044</td>\n",
       "      <td>0.890622</td>\n",
       "      <td>1992570.0</td>\n",
       "      <td>1053.15</td>\n",
       "    </tr>\n",
       "    <tr>\n",
       "      <th>2016-11-08</th>\n",
       "      <td>811.98</td>\n",
       "      <td>2.053475</td>\n",
       "      <td>1.240602</td>\n",
       "      <td>1769069.0</td>\n",
       "      <td>1026.55</td>\n",
       "    </tr>\n",
       "    <tr>\n",
       "      <th>2016-11-09</th>\n",
       "      <td>805.59</td>\n",
       "      <td>2.484107</td>\n",
       "      <td>0.468927</td>\n",
       "      <td>3098510.0</td>\n",
       "      <td>1054.09</td>\n",
       "    </tr>\n",
       "    <tr>\n",
       "      <th>2016-11-10</th>\n",
       "      <td>780.29</td>\n",
       "      <td>5.444984</td>\n",
       "      <td>-3.667901</td>\n",
       "      <td>5909609.0</td>\n",
       "      <td>1006.94</td>\n",
       "    </tr>\n",
       "  </tbody>\n",
       "</table>\n",
       "</div>"
      ],
      "text/plain": [
       "            Adj. Close    HL_PCT  PTC_change  Adj. Volume    label\n",
       "Date                                                              \n",
       "2016-11-04      781.10  2.266615    1.270582    1970603.0  1094.00\n",
       "2016-11-07      802.03  1.526044    0.890622    1992570.0  1053.15\n",
       "2016-11-08      811.98  2.053475    1.240602    1769069.0  1026.55\n",
       "2016-11-09      805.59  2.484107    0.468927    3098510.0  1054.09\n",
       "2016-11-10      780.29  5.444984   -3.667901    5909609.0  1006.94"
      ]
     },
     "execution_count": 153,
     "metadata": {},
     "output_type": "execute_result"
    }
   ],
   "source": [
    "df.tail()"
   ]
  },
  {
   "cell_type": "code",
   "execution_count": 13,
   "metadata": {},
   "outputs": [
    {
     "data": {
      "text/html": [
       "<div>\n",
       "<style scoped>\n",
       "    .dataframe tbody tr th:only-of-type {\n",
       "        vertical-align: middle;\n",
       "    }\n",
       "\n",
       "    .dataframe tbody tr th {\n",
       "        vertical-align: top;\n",
       "    }\n",
       "\n",
       "    .dataframe thead th {\n",
       "        text-align: right;\n",
       "    }\n",
       "</style>\n",
       "<table border=\"1\" class=\"dataframe\">\n",
       "  <thead>\n",
       "    <tr style=\"text-align: right;\">\n",
       "      <th></th>\n",
       "      <th>Adj. Close</th>\n",
       "      <th>HL_PCT</th>\n",
       "      <th>PTC_change</th>\n",
       "      <th>Adj. Volume</th>\n",
       "      <th>label</th>\n",
       "    </tr>\n",
       "    <tr>\n",
       "      <th>Date</th>\n",
       "      <th></th>\n",
       "      <th></th>\n",
       "      <th></th>\n",
       "      <th></th>\n",
       "      <th></th>\n",
       "    </tr>\n",
       "  </thead>\n",
       "  <tbody>\n",
       "    <tr>\n",
       "      <th>2004-08-19</th>\n",
       "      <td>50.322842</td>\n",
       "      <td>8.441017</td>\n",
       "      <td>0.324968</td>\n",
       "      <td>44659000.0</td>\n",
       "      <td>214.005615</td>\n",
       "    </tr>\n",
       "    <tr>\n",
       "      <th>2004-08-20</th>\n",
       "      <td>54.322689</td>\n",
       "      <td>8.537313</td>\n",
       "      <td>7.227007</td>\n",
       "      <td>22834300.0</td>\n",
       "      <td>210.725489</td>\n",
       "    </tr>\n",
       "    <tr>\n",
       "      <th>2004-08-23</th>\n",
       "      <td>54.869377</td>\n",
       "      <td>4.062357</td>\n",
       "      <td>-1.227880</td>\n",
       "      <td>18256100.0</td>\n",
       "      <td>208.072299</td>\n",
       "    </tr>\n",
       "    <tr>\n",
       "      <th>2004-08-24</th>\n",
       "      <td>52.597363</td>\n",
       "      <td>7.753210</td>\n",
       "      <td>-5.726357</td>\n",
       "      <td>15247300.0</td>\n",
       "      <td>218.288837</td>\n",
       "    </tr>\n",
       "    <tr>\n",
       "      <th>2004-08-25</th>\n",
       "      <td>53.164113</td>\n",
       "      <td>3.966115</td>\n",
       "      <td>1.183658</td>\n",
       "      <td>9188600.0</td>\n",
       "      <td>223.309335</td>\n",
       "    </tr>\n",
       "  </tbody>\n",
       "</table>\n",
       "</div>"
      ],
      "text/plain": [
       "            Adj. Close    HL_PCT  PTC_change  Adj. Volume       label\n",
       "Date                                                                 \n",
       "2004-08-19   50.322842  8.441017    0.324968   44659000.0  214.005615\n",
       "2004-08-20   54.322689  8.537313    7.227007   22834300.0  210.725489\n",
       "2004-08-23   54.869377  4.062357   -1.227880   18256100.0  208.072299\n",
       "2004-08-24   52.597363  7.753210   -5.726357   15247300.0  218.288837\n",
       "2004-08-25   53.164113  3.966115    1.183658    9188600.0  223.309335"
      ]
     },
     "execution_count": 13,
     "metadata": {},
     "output_type": "execute_result"
    }
   ],
   "source": [
    "df.head()"
   ]
  },
  {
   "cell_type": "code",
   "execution_count": 253,
   "metadata": {},
   "outputs": [],
   "source": [
    "#Save in asix = 1(x) столбец Х так же и с y\n",
    "X = np.array(df.drop(['label'],1))\n",
    "X = preprocessing.scale(X)\n",
    "X_lately = X[-forecast_out:]\n",
    "X = X[:-forecast_out]\n",
    "\n",
    "df.dropna(inplace=True)\n",
    "\n",
    "y = np.array(df['label'])"
   ]
  },
  {
   "cell_type": "code",
   "execution_count": 254,
   "metadata": {},
   "outputs": [
    {
     "data": {
      "text/plain": [
       "((3081, 4), (3081,))"
      ]
     },
     "execution_count": 254,
     "metadata": {},
     "output_type": "execute_result"
    }
   ],
   "source": [
    "X.shape, y.shape"
   ]
  },
  {
   "cell_type": "code",
   "execution_count": 255,
   "metadata": {},
   "outputs": [],
   "source": [
    "#First two - features, Second two - labels\n",
    "X_train, X_test, y_train, y_test = model_selection.train_test_split(X, y, test_size = 0.2)\n",
    "#test_size = 0.2 = 20% от нашей даты будет обучаться "
   ]
  },
  {
   "cell_type": "code",
   "execution_count": 256,
   "metadata": {},
   "outputs": [],
   "source": [
    "##ALL IN COMMENT CAUSE WE USED pickle who save our prediction \n",
    "##Minus one cause we want used all power of Computer\n",
    "# clf = LinearRegression(n_jobs=-1)"
   ]
  },
  {
   "cell_type": "code",
   "execution_count": 257,
   "metadata": {},
   "outputs": [
    {
     "data": {
      "text/plain": [
       "LinearRegression(copy_X=True, fit_intercept=True, n_jobs=-1, normalize=False)"
      ]
     },
     "execution_count": 257,
     "metadata": {},
     "output_type": "execute_result"
    }
   ],
   "source": [
    "# clf.fit(X_train, y_train)"
   ]
  },
  {
   "cell_type": "code",
   "execution_count": 258,
   "metadata": {},
   "outputs": [],
   "source": [
    "# #We can save our prediction to avoid retraing date and \n",
    "# #if we have big date its not need  =  to avoid - во избежание \n",
    "# with open('linearregression.pickle', 'wb') as f:\n",
    "#     pickle.dump(clf, f)"
   ]
  },
  {
   "cell_type": "code",
   "execution_count": 272,
   "metadata": {},
   "outputs": [],
   "source": [
    "#load date \n",
    "pickle_in = open('linearregression.pickle', 'rb')\n",
    "clf = pickle.load(pickle_in)"
   ]
  },
  {
   "cell_type": "code",
   "execution_count": 273,
   "metadata": {},
   "outputs": [
    {
     "data": {
      "text/plain": [
       "0.8687532649214689"
      ]
     },
     "execution_count": 273,
     "metadata": {},
     "output_type": "execute_result"
    }
   ],
   "source": [
    "#accuracy = точность предсказания\n",
    "accuracy =  clf.score(X_test, y_test)\n",
    "accuracy"
   ]
  },
  {
   "cell_type": "code",
   "execution_count": 260,
   "metadata": {},
   "outputs": [
    {
     "data": {
      "text/plain": [
       "array([[-0.0388661 , -1.22474487,  1.33630621],\n",
       "       [ 1.24371532,  0.        , -0.26726124],\n",
       "       [-1.20484922,  1.22474487, -1.06904497]])"
      ]
     },
     "execution_count": 260,
     "metadata": {},
     "output_type": "execute_result"
    }
   ],
   "source": [
    "X_train_example = np.array([[ 1.0, -1.0,  2.0], \n",
    "                            [ 2.1,  0.0,  0.0],\n",
    "                            [ 0.0,  1.0, -1.0]])\n",
    "X_scale = preprocessing.scale(X_train_example)\n",
    "X_scale"
   ]
  },
  {
   "cell_type": "code",
   "execution_count": 261,
   "metadata": {},
   "outputs": [
    {
     "data": {
      "text/plain": [
       "0.7055679171432654"
      ]
     },
     "execution_count": 261,
     "metadata": {},
     "output_type": "execute_result"
    }
   ],
   "source": [
    "#Используем новую модель классификации\n",
    "clf2 = svm.SVR()\n",
    "clf2.fit(X_train, y_train)\n",
    "clf2.score(X_test, y_test)"
   ]
  },
  {
   "cell_type": "code",
   "execution_count": 274,
   "metadata": {},
   "outputs": [],
   "source": [
    "forecast_set = clf.predict(X_lately)"
   ]
  },
  {
   "cell_type": "code",
   "execution_count": 275,
   "metadata": {
    "scrolled": true
   },
   "outputs": [
    {
     "name": "stdout",
     "output_type": "stream",
     "text": [
      "[ 967.82495517  960.45882668  976.15197166  985.11575039  985.51935475\n",
      "  978.60674363  984.92982003  984.91161394  983.83628497  975.08505325\n",
      "  995.52820006  991.30242524  980.20317357  972.12400189  960.87075425\n",
      "  979.42654938  975.48204439 1000.47498947  998.34983242 1016.52272698\n",
      " 1010.1681     1023.65308334 1026.37884852 1023.14080942 1014.98495315\n",
      " 1020.62004417 1018.38430025 1018.90674794 1011.28984619 1010.07195943\n",
      " 1016.34456059 1009.86033131 1005.25958609  996.84783689 1016.99112409\n",
      " 1012.23539665 1017.76922116 1040.66439047 1035.89966362 1032.43082409\n",
      " 1039.04308059 1039.38042527 1037.45177173 1034.54506258 1035.88903325\n",
      " 1032.84589552 1033.57992811 1063.2471549  1063.5553347  1074.48333351\n",
      " 1071.68331913 1068.76336852 1035.5329353  1027.37321703 1022.60607149\n",
      " 1027.89840568 1025.1917604  1028.50580134 1038.04952162 1039.59145201\n",
      " 1036.74845587 1043.4986242  1047.7017724  1049.5170438  1045.5945167\n",
      " 1052.00240437 1058.42250972 1060.62056323 1064.49915314 1066.40024206\n",
      " 1058.4998834  1063.18129095 1056.51913393 1072.15450262 1062.95910493\n",
      " 1061.04376188 1060.17794927 1065.07742674 1066.28490576 1073.1853305\n",
      " 1076.29561822 1080.25177858 1082.93377576 1086.60895588 1086.0048071\n",
      " 1088.79056404 1083.3193087  1076.7602113  1063.40804807 1049.0525908\n",
      " 1050.01386294 1056.70441305 1056.08155199 1065.15155396 1060.79320669\n",
      " 1057.4744746  1074.1466143  1064.55404087 1065.5978608  1058.35514438\n",
      " 1054.33974227 1051.71870393 1053.01509582 1051.55560238 1049.74022947\n",
      " 1076.00113079 1067.22627999 1070.57921023 1074.69020976 1071.83564434\n",
      " 1103.78849116 1114.76832336 1111.56532571 1112.59317346 1156.22497518\n",
      " 1170.22070357 1173.58947277 1190.04787621 1194.96239475 1188.54671486\n",
      " 1201.46687606 1194.57539639 1192.19190221 1195.62587393 1191.74289951\n",
      " 1199.76218147 1203.40279142 1185.45198155 1190.88940758 1192.3075521\n",
      " 1204.61800526 1213.53904616 1220.14322853 1245.43796622 1240.78246747\n",
      " 1242.53389115 1239.31836288 1236.97522579 1244.60092718 1256.370893\n",
      " 1248.36554609 1250.72256176 1254.29738642 1241.60472221 1216.14127944\n",
      " 1217.30400951 1217.77175212 1207.9533681  1198.72759065 1220.28879838\n",
      " 1213.62901209 1224.41167668 1219.57913947 1234.607589   1225.11646359\n",
      " 1192.14273932 1213.76528476 1180.31761067 1166.18688166 1156.98132301\n",
      " 1171.85020718 1165.12134237 1180.68593536 1190.61332028 1192.51433446\n",
      " 1211.97306824 1214.09275015 1220.04395077 1221.92660575 1240.66460109\n",
      " 1240.12671048 1243.22222579 1243.18758987 1250.44482195 1209.07139775\n",
      " 1208.96799282 1205.71379272 1203.27190637 1188.67016938 1183.86506781\n",
      " 1189.79238929 1176.97082266 1181.66821745 1179.57165992 1181.06819528\n",
      " 1176.02246478 1157.58765978 1165.33517182 1172.29874885 1171.23263712\n",
      " 1181.252441   1164.87003387 1157.08996902 1152.09933822 1180.89101294\n",
      " 1179.71036378 1176.43402866 1164.78099768 1160.67134503 1178.26921216\n",
      " 1182.32153591 1195.37084342 1189.57088437 1182.03535769 1179.87044292\n",
      " 1190.90524425 1178.48758378 1181.2881023  1184.80861883 1187.85381435\n",
      " 1175.7244696  1169.84221221 1164.28811712 1173.38064276 1186.83685993\n",
      " 1187.98897151 1179.70727397 1172.38975102 1171.75221849 1210.1095792\n",
      " 1207.28859326 1217.02990262 1213.92223319 1215.81563728 1208.54821901\n",
      " 1236.34558408 1246.55347527 1239.96360597 1239.70539563 1263.91044279\n",
      " 1257.18889866 1258.14672087 1262.27317597 1263.04473302 1266.62508172\n",
      " 1251.93272982 1253.45979085 1240.73475663 1237.45003472 1244.53716707\n",
      " 1243.12930948 1306.06474591 1295.30815891 1293.97341142 1304.61721295\n",
      " 1308.10733744 1314.00260448 1303.52940756 1315.21538268 1312.0137154\n",
      " 1301.86825759 1301.04558909 1304.05139812 1294.76291383 1312.93842178\n",
      " 1299.20167371 1290.62389895 1313.54616259 1313.64300764 1319.21805891\n",
      " 1344.47712412 1338.1235515  1307.60808658 1296.55211424 1287.62970002\n",
      " 1272.37187576 1291.15116384 1300.80441475 1307.61886182 1311.22686274\n",
      " 1315.83088698 1315.08430511 1312.73941145 1323.20742018 1340.71549238\n",
      " 1359.27684765 1350.41743949 1342.45415122 1336.63582592 1331.65415089\n",
      " 1331.98031744 1324.5606871  1320.42669777 1313.01252051 1349.4377938\n",
      " 1371.64326022 1368.24744307 1387.41588137 1390.86966047 1389.46460858\n",
      " 1385.74856597 1387.48122365 1419.79659355 1418.60913915 1425.69621321\n",
      " 1421.91844936 1428.19108886 1462.57901769 1468.07727131 1466.86161119\n",
      " 1477.0330121  1487.00671003 1482.61602269 1470.78910347 1477.45947246\n",
      " 1477.91182172 1398.78019355 1364.36911866 1385.604221   1331.44994697\n",
      " 1288.70937497 1332.78647336 1322.69454541 1319.67701673 1350.13577431\n",
      " 1373.8918443  1371.76678186 1388.54682636 1401.91651335 1392.26602461\n",
      " 1415.43318156 1430.73552377 1405.09814382 1386.37714553 1358.73931548\n",
      " 1371.46389299 1379.93709128 1375.6147658  1403.06785428 1412.64526321\n",
      " 1458.91474514 1459.73905353 1442.53989533 1437.92581292 1446.45427477\n",
      " 1424.07239665 1384.88567163 1375.53073357 1373.01195194 1329.43089787\n",
      " 1303.38997995 1342.29492047 1296.56900818] 0.8687532649214689 343\n"
     ]
    }
   ],
   "source": [
    "#forecast_out следующие дни предсказания\n",
    "print(forecast_set, accuracy, forecast_out)"
   ]
  },
  {
   "cell_type": "code",
   "execution_count": 276,
   "metadata": {},
   "outputs": [],
   "source": [
    "# entire filled in nan = entire - все/полностью\n",
    "df['forecast'] = np.nan"
   ]
  },
  {
   "cell_type": "code",
   "execution_count": 277,
   "metadata": {
    "collapsed": true
   },
   "outputs": [
    {
     "data": {
      "text/html": [
       "<div>\n",
       "<style scoped>\n",
       "    .dataframe tbody tr th:only-of-type {\n",
       "        vertical-align: middle;\n",
       "    }\n",
       "\n",
       "    .dataframe tbody tr th {\n",
       "        vertical-align: top;\n",
       "    }\n",
       "\n",
       "    .dataframe thead th {\n",
       "        text-align: right;\n",
       "    }\n",
       "</style>\n",
       "<table border=\"1\" class=\"dataframe\">\n",
       "  <thead>\n",
       "    <tr style=\"text-align: right;\">\n",
       "      <th></th>\n",
       "      <th>Adj. Close</th>\n",
       "      <th>HL_PCT</th>\n",
       "      <th>PTC_change</th>\n",
       "      <th>Adj. Volume</th>\n",
       "      <th>label</th>\n",
       "      <th>forecast</th>\n",
       "    </tr>\n",
       "    <tr>\n",
       "      <th>Date</th>\n",
       "      <th></th>\n",
       "      <th></th>\n",
       "      <th></th>\n",
       "      <th></th>\n",
       "      <th></th>\n",
       "      <th></th>\n",
       "    </tr>\n",
       "  </thead>\n",
       "  <tbody>\n",
       "    <tr>\n",
       "      <th>2004-08-19</th>\n",
       "      <td>50.322842</td>\n",
       "      <td>8.441017</td>\n",
       "      <td>0.324968</td>\n",
       "      <td>44659000.0</td>\n",
       "      <td>214.005615</td>\n",
       "      <td>NaN</td>\n",
       "    </tr>\n",
       "    <tr>\n",
       "      <th>2004-08-20</th>\n",
       "      <td>54.322689</td>\n",
       "      <td>8.537313</td>\n",
       "      <td>7.227007</td>\n",
       "      <td>22834300.0</td>\n",
       "      <td>210.725489</td>\n",
       "      <td>NaN</td>\n",
       "    </tr>\n",
       "    <tr>\n",
       "      <th>2004-08-23</th>\n",
       "      <td>54.869377</td>\n",
       "      <td>4.062357</td>\n",
       "      <td>-1.227880</td>\n",
       "      <td>18256100.0</td>\n",
       "      <td>208.072299</td>\n",
       "      <td>NaN</td>\n",
       "    </tr>\n",
       "    <tr>\n",
       "      <th>2004-08-24</th>\n",
       "      <td>52.597363</td>\n",
       "      <td>7.753210</td>\n",
       "      <td>-5.726357</td>\n",
       "      <td>15247300.0</td>\n",
       "      <td>218.288837</td>\n",
       "      <td>NaN</td>\n",
       "    </tr>\n",
       "    <tr>\n",
       "      <th>2004-08-25</th>\n",
       "      <td>53.164113</td>\n",
       "      <td>3.966115</td>\n",
       "      <td>1.183658</td>\n",
       "      <td>9188600.0</td>\n",
       "      <td>223.309335</td>\n",
       "      <td>NaN</td>\n",
       "    </tr>\n",
       "  </tbody>\n",
       "</table>\n",
       "</div>"
      ],
      "text/plain": [
       "            Adj. Close    HL_PCT  PTC_change  Adj. Volume       label  \\\n",
       "Date                                                                    \n",
       "2004-08-19   50.322842  8.441017    0.324968   44659000.0  214.005615   \n",
       "2004-08-20   54.322689  8.537313    7.227007   22834300.0  210.725489   \n",
       "2004-08-23   54.869377  4.062357   -1.227880   18256100.0  208.072299   \n",
       "2004-08-24   52.597363  7.753210   -5.726357   15247300.0  218.288837   \n",
       "2004-08-25   53.164113  3.966115    1.183658    9188600.0  223.309335   \n",
       "\n",
       "            forecast  \n",
       "Date                  \n",
       "2004-08-19       NaN  \n",
       "2004-08-20       NaN  \n",
       "2004-08-23       NaN  \n",
       "2004-08-24       NaN  \n",
       "2004-08-25       NaN  "
      ]
     },
     "execution_count": 277,
     "metadata": {},
     "output_type": "execute_result"
    }
   ],
   "source": [
    "df.head()"
   ]
  },
  {
   "cell_type": "code",
   "execution_count": 278,
   "metadata": {},
   "outputs": [
    {
     "data": {
      "text/plain": [
       "Adj. Close    NaN\n",
       "HL_PCT        NaN\n",
       "PTC_change    NaN\n",
       "Adj. Volume   NaN\n",
       "label         NaN\n",
       "forecast      NaN\n",
       "Name: 2017-10-19 02:00:00, dtype: float64"
      ]
     },
     "execution_count": 278,
     "metadata": {},
     "output_type": "execute_result"
    }
   ],
   "source": [
    "df.iloc[-1] # [-1] last row of data frame \n",
    "# .name - обращаемся к кокретной строке "
   ]
  },
  {
   "cell_type": "code",
   "execution_count": 279,
   "metadata": {},
   "outputs": [],
   "source": [
    "last_date = df.iloc[-1].name\n",
    "last_unix = last_date.timestamp() #timestamp() convert all date to seconds\n",
    "one_day = 86400 # 1 day in sec \n",
    "next_unix = last_unix + one_day "
   ]
  },
  {
   "cell_type": "code",
   "execution_count": 280,
   "metadata": {},
   "outputs": [],
   "source": [
    "#forecast_set is array predictions next days \n",
    "for i in forecast_set:\n",
    "    next_date = datetime.datetime.fromtimestamp(next_unix) # convert in POSIX time\n",
    "    next_unix += one_day \n",
    "    df.loc[next_date] = [np.nan for _ in range(len(df.columns)- 1)] + [i]\n",
    "#Заполняем  forecast nan (range(len(df.columns) - 1))пока дойдет до предикшина на след дни(+[i]) \n",
    "#Если этот день существует заполняет его предишеном, если нет то нан "
   ]
  },
  {
   "cell_type": "code",
   "execution_count": 281,
   "metadata": {},
   "outputs": [
    {
     "data": {
      "text/plain": [
       "Date\n",
       "2004-08-19   NaN\n",
       "2004-08-20   NaN\n",
       "2004-08-23   NaN\n",
       "2004-08-24   NaN\n",
       "2004-08-25   NaN\n",
       "Name: forecast, dtype: float64"
      ]
     },
     "execution_count": 281,
     "metadata": {},
     "output_type": "execute_result"
    }
   ],
   "source": [
    "df['forecast'].head()"
   ]
  },
  {
   "cell_type": "code",
   "execution_count": 282,
   "metadata": {},
   "outputs": [
    {
     "data": {
      "text/plain": [
       "Date\n",
       "2018-09-23 04:00:00    1373.011952\n",
       "2018-09-24 04:00:00    1329.430898\n",
       "2018-09-25 04:00:00    1303.389980\n",
       "2018-09-26 04:00:00    1342.294920\n",
       "2018-09-27 04:00:00    1296.569008\n",
       "Name: forecast, dtype: float64"
      ]
     },
     "execution_count": 282,
     "metadata": {},
     "output_type": "execute_result"
    }
   ],
   "source": [
    "df['forecast'].tail()"
   ]
  },
  {
   "cell_type": "code",
   "execution_count": 283,
   "metadata": {},
   "outputs": [
    {
     "data": {
      "image/png": "[encoded data removed]",
      "text/plain": [
       "<matplotlib.figure.Figure at 0x1a1911d198>"
      ]
     },
     "metadata": {},
     "output_type": "display_data"
    }
   ],
   "source": [
    "df['Adj. Close'].plot()\n",
    "df['forecast'].plot()\n",
    "plt.legend(loc=4)\n",
    "plt.xlabel('Date')\n",
    "plt.ylabel('Price')\n",
    "plt.show()\n",
    "#prediction on the 343 date (look at forecast_out) "
   ]
  }
 ],
 "metadata": {
  "kernelspec": {
   "display_name": "Python 3",
   "language": "python",
   "name": "python3"
  },
  "language_info": {
   "codemirror_mode": {
    "name": "ipython",
    "version": 3
   },
   "file_extension": ".py",
   "mimetype": "text/x-python",
   "name": "python",
   "nbconvert_exporter": "python",
   "pygments_lexer": "ipython3",
   "version": "3.6.4"
  }
 },
 "nbformat": 4,
 "nbformat_minor": 2
}

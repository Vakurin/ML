{
 "cells": [
  {
   "cell_type": "markdown",
   "metadata": {},
   "source": [
    "# Artificial Neural Network"
   ]
  },
  {
   "cell_type": "markdown",
   "metadata": {},
   "source": [
    "### Importing the libraries"
   ]
  },
  {
   "cell_type": "code",
   "execution_count": 3,
   "metadata": {},
   "outputs": [],
   "source": [
    "import pandas as pd\n",
    "import matplotlib.pyplot as plt\n",
    "import numpy as np"
   ]
  },
  {
   "cell_type": "markdown",
   "metadata": {},
   "source": [
    "### Importing the dataset"
   ]
  },
  {
   "cell_type": "code",
   "execution_count": 4,
   "metadata": {},
   "outputs": [
    {
     "data": {
      "text/html": [
       "<div>\n",
       "<style scoped>\n",
       "    .dataframe tbody tr th:only-of-type {\n",
       "        vertical-align: middle;\n",
       "    }\n",
       "\n",
       "    .dataframe tbody tr th {\n",
       "        vertical-align: top;\n",
       "    }\n",
       "\n",
       "    .dataframe thead th {\n",
       "        text-align: right;\n",
       "    }\n",
       "</style>\n",
       "<table border=\"1\" class=\"dataframe\">\n",
       "  <thead>\n",
       "    <tr style=\"text-align: right;\">\n",
       "      <th></th>\n",
       "      <th>RowNumber</th>\n",
       "      <th>CustomerId</th>\n",
       "      <th>Surname</th>\n",
       "      <th>CreditScore</th>\n",
       "      <th>Geography</th>\n",
       "      <th>Gender</th>\n",
       "      <th>Age</th>\n",
       "      <th>Tenure</th>\n",
       "      <th>Balance</th>\n",
       "      <th>NumOfProducts</th>\n",
       "      <th>HasCrCard</th>\n",
       "      <th>IsActiveMember</th>\n",
       "      <th>EstimatedSalary</th>\n",
       "      <th>Exited</th>\n",
       "    </tr>\n",
       "  </thead>\n",
       "  <tbody>\n",
       "    <tr>\n",
       "      <th>0</th>\n",
       "      <td>1</td>\n",
       "      <td>15634602</td>\n",
       "      <td>Hargrave</td>\n",
       "      <td>619</td>\n",
       "      <td>France</td>\n",
       "      <td>Female</td>\n",
       "      <td>42</td>\n",
       "      <td>2</td>\n",
       "      <td>0.00</td>\n",
       "      <td>1</td>\n",
       "      <td>1</td>\n",
       "      <td>1</td>\n",
       "      <td>101348.88</td>\n",
       "      <td>1</td>\n",
       "    </tr>\n",
       "    <tr>\n",
       "      <th>1</th>\n",
       "      <td>2</td>\n",
       "      <td>15647311</td>\n",
       "      <td>Hill</td>\n",
       "      <td>608</td>\n",
       "      <td>Spain</td>\n",
       "      <td>Female</td>\n",
       "      <td>41</td>\n",
       "      <td>1</td>\n",
       "      <td>83807.86</td>\n",
       "      <td>1</td>\n",
       "      <td>0</td>\n",
       "      <td>1</td>\n",
       "      <td>112542.58</td>\n",
       "      <td>0</td>\n",
       "    </tr>\n",
       "    <tr>\n",
       "      <th>2</th>\n",
       "      <td>3</td>\n",
       "      <td>15619304</td>\n",
       "      <td>Onio</td>\n",
       "      <td>502</td>\n",
       "      <td>France</td>\n",
       "      <td>Female</td>\n",
       "      <td>42</td>\n",
       "      <td>8</td>\n",
       "      <td>159660.80</td>\n",
       "      <td>3</td>\n",
       "      <td>1</td>\n",
       "      <td>0</td>\n",
       "      <td>113931.57</td>\n",
       "      <td>1</td>\n",
       "    </tr>\n",
       "    <tr>\n",
       "      <th>3</th>\n",
       "      <td>4</td>\n",
       "      <td>15701354</td>\n",
       "      <td>Boni</td>\n",
       "      <td>699</td>\n",
       "      <td>France</td>\n",
       "      <td>Female</td>\n",
       "      <td>39</td>\n",
       "      <td>1</td>\n",
       "      <td>0.00</td>\n",
       "      <td>2</td>\n",
       "      <td>0</td>\n",
       "      <td>0</td>\n",
       "      <td>93826.63</td>\n",
       "      <td>0</td>\n",
       "    </tr>\n",
       "    <tr>\n",
       "      <th>4</th>\n",
       "      <td>5</td>\n",
       "      <td>15737888</td>\n",
       "      <td>Mitchell</td>\n",
       "      <td>850</td>\n",
       "      <td>Spain</td>\n",
       "      <td>Female</td>\n",
       "      <td>43</td>\n",
       "      <td>2</td>\n",
       "      <td>125510.82</td>\n",
       "      <td>1</td>\n",
       "      <td>1</td>\n",
       "      <td>1</td>\n",
       "      <td>79084.10</td>\n",
       "      <td>0</td>\n",
       "    </tr>\n",
       "  </tbody>\n",
       "</table>\n",
       "</div>"
      ],
      "text/plain": [
       "   RowNumber  CustomerId   ...   EstimatedSalary  Exited\n",
       "0          1    15634602   ...         101348.88       1\n",
       "1          2    15647311   ...         112542.58       0\n",
       "2          3    15619304   ...         113931.57       1\n",
       "3          4    15701354   ...          93826.63       0\n",
       "4          5    15737888   ...          79084.10       0\n",
       "\n",
       "[5 rows x 14 columns]"
      ]
     },
     "execution_count": 4,
     "metadata": {},
     "output_type": "execute_result"
    }
   ],
   "source": [
    "dataset = pd.read_csv('Churn_Modelling.csv')\n",
    "dataset.head()"
   ]
  },
  {
   "cell_type": "code",
   "execution_count": 5,
   "metadata": {},
   "outputs": [
    {
     "data": {
      "text/plain": [
       "array([[619, 'France', 'Female', ..., 1, 1, 101348.88],\n",
       "       [608, 'Spain', 'Female', ..., 0, 1, 112542.58],\n",
       "       [502, 'France', 'Female', ..., 1, 0, 113931.57],\n",
       "       ...,\n",
       "       [709, 'France', 'Female', ..., 0, 1, 42085.58],\n",
       "       [772, 'Germany', 'Male', ..., 1, 0, 92888.52],\n",
       "       [792, 'France', 'Female', ..., 1, 0, 38190.78]], dtype=object)"
      ]
     },
     "execution_count": 5,
     "metadata": {},
     "output_type": "execute_result"
    }
   ],
   "source": [
    "X = dataset.iloc[:, 3:13].values\n",
    "y = dataset.loc[:, 'Exited'].values\n",
    "X"
   ]
  },
  {
   "cell_type": "markdown",
   "metadata": {},
   "source": [
    "### Encoding categorical data(Country and Gender)"
   ]
  },
  {
   "cell_type": "code",
   "execution_count": 8,
   "metadata": {},
   "outputs": [],
   "source": [
    "from sklearn.preprocessing import LabelEncoder, OneHotEncoder\n",
    "labelencoder_X_1 = LabelEncoder()\n",
    "X[:, 1] = labelencoder_X_1.fit_transform(X[:, 1])\n",
    "labelencoder_X_2 = LabelEncoder()\n",
    "X[:, 2] = labelencoder_X_2.fit_transform(X[:, 2])\n",
    "#Transform Country to Dummy Variables\n",
    "onehotencoder = OneHotEncoder(categorical_features = [1])\n",
    "X = onehotencoder.fit_transform(X).toarray()\n",
    "#Avoid Dummy Trap \n",
    "X = X[:, 1:]"
   ]
  },
  {
   "cell_type": "code",
   "execution_count": 7,
   "metadata": {},
   "outputs": [
    {
     "data": {
      "text/plain": [
       "(10000, 11)"
      ]
     },
     "execution_count": 7,
     "metadata": {},
     "output_type": "execute_result"
    }
   ],
   "source": [
    "X.shape"
   ]
  },
  {
   "cell_type": "markdown",
   "metadata": {},
   "source": [
    "### Splitting the dataset into the Training set and Test set"
   ]
  },
  {
   "cell_type": "code",
   "execution_count": 10,
   "metadata": {},
   "outputs": [],
   "source": [
    "from sklearn.model_selection import train_test_split\n",
    "X_train, X_test, y_train, y_test = train_test_split(X, y, test_size = 0.2, random_state = 0)"
   ]
  },
  {
   "cell_type": "markdown",
   "metadata": {},
   "source": [
    "### Feature Scaling"
   ]
  },
  {
   "cell_type": "code",
   "execution_count": 11,
   "metadata": {},
   "outputs": [],
   "source": [
    "from sklearn.preprocessing import StandardScaler\n",
    "sc = StandardScaler()\n",
    "X_train = sc.fit_transform(X_train)\n",
    "X_test = sc.transform(X_test)"
   ]
  },
  {
   "cell_type": "markdown",
   "metadata": {},
   "source": [
    "### Importing the keras libraries of deep learninig"
   ]
  },
  {
   "cell_type": "code",
   "execution_count": 12,
   "metadata": {},
   "outputs": [],
   "source": [
    "import keras\n",
    "from keras.models import Sequential\n",
    "from keras.layers import Dense"
   ]
  },
  {
   "cell_type": "code",
   "execution_count": 14,
   "metadata": {},
   "outputs": [],
   "source": [
    "classifier = Sequential()"
   ]
  },
  {
   "cell_type": "markdown",
   "metadata": {},
   "source": [
    "### Adding the input layer and first hidden layer"
   ]
  },
  {
   "cell_type": "code",
   "execution_count": 22,
   "metadata": {},
   "outputs": [],
   "source": [
    "classifier.add(Dense(units = 6, kernel_initializer = 'uniform', activation = 'relu', input_dim = 11))"
   ]
  },
  {
   "cell_type": "markdown",
   "metadata": {},
   "source": [
    "### Adding Second Hidden Layer"
   ]
  },
  {
   "cell_type": "code",
   "execution_count": 23,
   "metadata": {},
   "outputs": [],
   "source": [
    "classifier.add(Dense(units = 6, kernel_initializer = 'uniform', activation = 'relu'))"
   ]
  },
  {
   "cell_type": "markdown",
   "metadata": {},
   "source": [
    "### Adding Output Layer"
   ]
  },
  {
   "cell_type": "code",
   "execution_count": 24,
   "metadata": {},
   "outputs": [],
   "source": [
    "classifier.add(Dense(units = 1, kernel_initializer = 'uniform', activation = 'sigmoid'))"
   ]
  },
  {
   "cell_type": "markdown",
   "metadata": {},
   "source": [
    "### Compiling the ANN"
   ]
  },
  {
   "cell_type": "code",
   "execution_count": 26,
   "metadata": {},
   "outputs": [],
   "source": [
    "classifier.compile(optimizer = 'adam', loss = 'binary_crossentropy', metrics = ['accuracy'])"
   ]
  },
  {
   "cell_type": "markdown",
   "metadata": {},
   "source": [
    "### Fitting the ANN to the Training Set \n",
    "third argument it's batch observation, we indicate after how many model, we recount weight"
   ]
  },
  {
   "cell_type": "code",
   "execution_count": 27,
   "metadata": {
    "collapsed": true
   },
   "outputs": [
    {
     "name": "stderr",
     "output_type": "stream",
     "text": [
      "/anaconda3/lib/python3.6/site-packages/ipykernel_launcher.py:1: UserWarning: The `nb_epoch` argument in `fit` has been renamed `epochs`.\n",
      "  \"\"\"Entry point for launching an IPython kernel.\n"
     ]
    },
    {
     "name": "stdout",
     "output_type": "stream",
     "text": [
      "Epoch 1/100\n",
      "8000/8000 [==============================] - ETA: 0s - loss: 0.6144 - acc: 0.7973- ETA: 1s - loss: 0.6360 - acc: 0.797 - ETA: 1s - loss: 0.6 - 4s 439us/step - loss: 0.6142 - acc: 0.7960\n",
      "Epoch 2/100\n",
      "8000/8000 [==============================] - 3s 385us/step - loss: 0.5341 - acc: 0.7960\n",
      "Epoch 3/100\n",
      "8000/8000 [==============================] - 3s 424us/step - loss: 0.5120 - acc: 0.7960\n",
      "Epoch 4/100\n",
      "8000/8000 [==============================] - 4s 490us/step - loss: 0.5069 - acc: 0.7960\n",
      "Epoch 5/100\n",
      "8000/8000 [==============================] - 4s 541us/step - loss: 0.5061 - acc: 0.7960\n",
      "Epoch 6/100\n",
      "8000/8000 [==============================] - 4s 440us/step - loss: 0.5060 - acc: 0.7960\n",
      "Epoch 7/100\n",
      "8000/8000 [==============================] - 4s 455us/step - loss: 0.5059 - acc: 0.7960\n",
      "Epoch 8/100\n",
      "8000/8000 [==============================] - 4s 446us/step - loss: 0.5060 - acc: 0.7960\n",
      "Epoch 9/100\n",
      "8000/8000 [==============================] - 4s 512us/step - loss: 0.5059 - acc: 0.7960 0s - loss: 0.5096 - acc:\n",
      "Epoch 10/100\n",
      "8000/8000 [==============================] - 3s 421us/step - loss: 0.5059 - acc: 0.7960\n",
      "Epoch 11/100\n",
      "8000/8000 [==============================] - 3s 421us/step - loss: 0.5059 - acc: 0.7960\n",
      "Epoch 12/100\n",
      "8000/8000 [==============================] - 5s 573us/step - loss: 0.5060 - acc: 0.7960\n",
      "Epoch 13/100\n",
      "8000/8000 [==============================] - 8s 942us/step - loss: 0.5059 - acc: 0.7960\n",
      "Epoch 14/100\n",
      "8000/8000 [==============================] - 5s 598us/step - loss: 0.5059 - acc: 0.7960\n",
      "Epoch 15/100\n",
      "8000/8000 [==============================] - 4s 559us/step - loss: 0.5059 - acc: 0.7960\n",
      "Epoch 16/100\n",
      "8000/8000 [==============================] - 3s 393us/step - loss: 0.5060 - acc: 0.7960\n",
      "Epoch 17/100\n",
      "8000/8000 [==============================] - 3s 344us/step - loss: 0.5060 - acc: 0.7960 \n",
      "Epoch 18/100\n",
      "8000/8000 [==============================] - 4s 473us/step - loss: 0.5060 - acc: 0.7960\n",
      "Epoch 19/100\n",
      "8000/8000 [==============================] - 4s 448us/step - loss: 0.5060 - acc: 0.7960\n",
      "Epoch 20/100\n",
      "8000/8000 [==============================] - 4s 511us/step - loss: 0.5059 - acc: 0.7960\n",
      "Epoch 21/100\n",
      "8000/8000 [==============================] - 3s 389us/step - loss: 0.5060 - acc: 0.7960\n",
      "Epoch 22/100\n",
      "8000/8000 [==============================] - 3s 359us/step - loss: 0.5060 - acc: 0.7960\n",
      "Epoch 23/100\n",
      "8000/8000 [==============================] - 3s 422us/step - loss: 0.5059 - acc: 0.7960\n",
      "Epoch 24/100\n",
      "8000/8000 [==============================] - 3s 386us/step - loss: 0.5059 - acc: 0.7960\n",
      "Epoch 25/100\n",
      "8000/8000 [==============================] - 3s 430us/step - loss: 0.5059 - acc: 0.7960\n",
      "Epoch 26/100\n",
      "8000/8000 [==============================] - 5s 611us/step - loss: 0.5060 - acc: 0.7960\n",
      "Epoch 27/100\n",
      "8000/8000 [==============================] - 4s 492us/step - loss: 0.5060 - acc: 0.7960 3\n",
      "Epoch 28/100\n",
      "8000/8000 [==============================] - 3s 434us/step - loss: 0.5060 - acc: 0.7960\n",
      "Epoch 29/100\n",
      "8000/8000 [==============================] - 4s 499us/step - loss: 0.5060 - acc: 0.7960\n",
      "Epoch 30/100\n",
      "8000/8000 [==============================] - 5s 567us/step - loss: 0.5059 - acc: 0.7960\n",
      "Epoch 31/100\n",
      "8000/8000 [==============================] - 4s 473us/step - loss: 0.5060 - acc: 0.7960 1s - loss: 0.5069 - acc - ETA: 0s - lo\n",
      "Epoch 32/100\n",
      "8000/8000 [==============================] - 3s 436us/step - loss: 0.5059 - acc: 0.7960\n",
      "Epoch 33/100\n",
      "8000/8000 [==============================] - 4s 455us/step - loss: 0.5059 - acc: 0.7960\n",
      "Epoch 34/100\n",
      "8000/8000 [==============================] - 3s 355us/step - loss: 0.5060 - acc: 0.7960\n",
      "Epoch 35/100\n",
      "8000/8000 [==============================] - 4s 506us/step - loss: 0.5059 - acc: 0.7960\n",
      "Epoch 36/100\n",
      "8000/8000 [==============================] - 5s 571us/step - loss: 0.5060 - acc: 0.7960\n",
      "Epoch 37/100\n",
      "8000/8000 [==============================] - 4s 515us/step - loss: 0.5059 - acc: 0.7960\n",
      "Epoch 38/100\n",
      "8000/8000 [==============================] - 3s 409us/step - loss: 0.5059 - acc: 0.7960\n",
      "Epoch 39/100\n",
      "8000/8000 [==============================] - 4s 530us/step - loss: 0.5060 - acc: 0.7960\n",
      "Epoch 40/100\n",
      "8000/8000 [==============================] - 4s 517us/step - loss: 0.5059 - acc: 0.7960 0s - loss: 0.5100 -\n",
      "Epoch 41/100\n",
      "8000/8000 [==============================] - 4s 494us/step - loss: 0.5060 - acc: 0.7960\n",
      "Epoch 42/100\n",
      "8000/8000 [==============================] - 4s 459us/step - loss: 0.5059 - acc: 0.7960\n",
      "Epoch 43/100\n",
      "8000/8000 [==============================] - 4s 444us/step - loss: 0.5059 - acc: 0.7960\n",
      "Epoch 44/100\n",
      "8000/8000 [==============================] - ETA: 0s - loss: 0.5060 - acc: 0.796 - 4s 478us/step - loss: 0.5060 - acc: 0.7960\n",
      "Epoch 45/100\n",
      "8000/8000 [==============================] - 5s 608us/step - loss: 0.5060 - acc: 0.7960\n",
      "Epoch 46/100\n",
      "8000/8000 [==============================] - 3s 431us/step - loss: 0.5060 - acc: 0.7960\n",
      "Epoch 47/100\n",
      "8000/8000 [==============================] - 3s 417us/step - loss: 0.5059 - acc: 0.7960\n",
      "Epoch 48/100\n",
      "8000/8000 [==============================] - 3s 399us/step - loss: 0.5059 - acc: 0.7960\n",
      "Epoch 49/100\n",
      "8000/8000 [==============================] - 4s 459us/step - loss: 0.5059 - acc: 0.7960\n",
      "Epoch 50/100\n",
      "8000/8000 [==============================] - 5s 635us/step - loss: 0.5059 - acc: 0.7960\n",
      "Epoch 51/100\n",
      "8000/8000 [==============================] - 5s 605us/step - loss: 0.5059 - acc: 0.7960\n",
      "Epoch 52/100\n",
      "8000/8000 [==============================] - 4s 559us/step - loss: 0.5060 - acc: 0.7960\n",
      "Epoch 53/100\n",
      "8000/8000 [==============================] - 5s 593us/step - loss: 0.5060 - acc: 0.7960\n",
      "Epoch 54/100\n",
      "8000/8000 [==============================] - 4s 487us/step - loss: 0.5060 - acc: 0.7960\n",
      "Epoch 55/100\n",
      "8000/8000 [==============================] - 4s 489us/step - loss: 0.5059 - acc: 0.7960\n",
      "Epoch 56/100\n",
      "8000/8000 [==============================] - 4s 494us/step - loss: 0.5060 - acc: 0.7960\n",
      "Epoch 57/100\n",
      "8000/8000 [==============================] - 4s 527us/step - loss: 0.5059 - acc: 0.7960 0s - loss: 0.5027 - acc:  - ETA: 0s - loss: 0.5064 - acc: 0.\n",
      "Epoch 58/100\n",
      "8000/8000 [==============================] - 4s 529us/step - loss: 0.5059 - acc: 0.7960\n",
      "Epoch 59/100\n",
      "8000/8000 [==============================] - 4s 496us/step - loss: 0.5059 - acc: 0.7960\n",
      "Epoch 60/100\n",
      "8000/8000 [==============================] - 3s 420us/step - loss: 0.5060 - acc: 0.7960\n",
      "Epoch 61/100\n",
      "8000/8000 [==============================] - 3s 409us/step - loss: 0.5059 - acc: 0.7960\n",
      "Epoch 62/100\n",
      "8000/8000 [==============================] - 3s 402us/step - loss: 0.5059 - acc: 0.7960\n",
      "Epoch 63/100\n",
      "8000/8000 [==============================] - 3s 397us/step - loss: 0.5059 - acc: 0.7960\n",
      "Epoch 64/100\n",
      "8000/8000 [==============================] - 3s 421us/step - loss: 0.5060 - acc: 0.7960 1s - \n",
      "Epoch 65/100\n",
      "8000/8000 [==============================] - 3s 408us/step - loss: 0.5059 - acc: 0.7960\n",
      "Epoch 66/100\n",
      "8000/8000 [==============================] - 3s 402us/step - loss: 0.5060 - acc: 0.7960\n",
      "Epoch 67/100\n",
      "8000/8000 [==============================] - 4s 460us/step - loss: 0.5060 - acc: 0.7960 0s - loss:\n",
      "Epoch 68/100\n",
      "8000/8000 [==============================] - 3s 385us/step - loss: 0.5060 - acc: 0.7960\n",
      "Epoch 69/100\n",
      "8000/8000 [==============================] - 3s 412us/step - loss: 0.5059 - acc: 0.7960 0s - loss: 0.5051 - acc:\n",
      "Epoch 70/100\n",
      "8000/8000 [==============================] - 4s 486us/step - loss: 0.5059 - acc: 0.7960\n",
      "Epoch 71/100\n",
      "8000/8000 [==============================] - 4s 482us/step - loss: 0.5060 - acc: 0.7960\n",
      "Epoch 72/100\n",
      "8000/8000 [==============================] - 4s 505us/step - loss: 0.5060 - acc: 0.7960\n",
      "Epoch 73/100\n",
      "8000/8000 [==============================] - 3s 433us/step - loss: 0.5059 - acc: 0.7960 2s - loss: 0.4841 - \n",
      "Epoch 74/100\n",
      "8000/8000 [==============================] - 3s 430us/step - loss: 0.5059 - acc: 0.7960\n",
      "Epoch 75/100\n",
      "8000/8000 [==============================] - 3s 434us/step - loss: 0.5059 - acc: 0.7960 0s - loss: 0.5030 -\n",
      "Epoch 76/100\n",
      "8000/8000 [==============================] - 4s 505us/step - loss: 0.5060 - acc: 0.7960\n",
      "Epoch 77/100\n",
      "8000/8000 [==============================] - 3s 420us/step - loss: 0.5059 - acc: 0.7960\n",
      "Epoch 78/100\n"
     ]
    },
    {
     "name": "stdout",
     "output_type": "stream",
     "text": [
      "8000/8000 [==============================] - 5s 635us/step - loss: 0.5060 - acc: 0.7960\n",
      "Epoch 79/100\n",
      "8000/8000 [==============================] - 5s 624us/step - loss: 0.5059 - acc: 0.7960\n",
      "Epoch 80/100\n",
      "8000/8000 [==============================] - 3s 436us/step - loss: 0.5059 - acc: 0.7960\n",
      "Epoch 81/100\n",
      "8000/8000 [==============================] - 3s 381us/step - loss: 0.5059 - acc: 0.7960\n",
      "Epoch 82/100\n",
      "8000/8000 [==============================] - 3s 316us/step - loss: 0.5060 - acc: 0.7960\n",
      "Epoch 83/100\n",
      "8000/8000 [==============================] - 3s 315us/step - loss: 0.5060 - acc: 0.7960\n",
      "Epoch 84/100\n",
      "8000/8000 [==============================] - 2s 307us/step - loss: 0.5059 - acc: 0.7960\n",
      "Epoch 85/100\n",
      "8000/8000 [==============================] - 2s 310us/step - loss: 0.5060 - acc: 0.7960\n",
      "Epoch 86/100\n",
      "8000/8000 [==============================] - 4s 460us/step - loss: 0.5059 - acc: 0.7960\n",
      "Epoch 87/100\n",
      "8000/8000 [==============================] - 3s 317us/step - loss: 0.5059 - acc: 0.7960\n",
      "Epoch 88/100\n",
      "8000/8000 [==============================] - 3s 313us/step - loss: 0.5060 - acc: 0.7960 0s - loss: 0.5055 - acc: 0.796\n",
      "Epoch 89/100\n",
      "8000/8000 [==============================] - 3s 319us/step - loss: 0.5059 - acc: 0.7960\n",
      "Epoch 90/100\n",
      "8000/8000 [==============================] - 2s 312us/step - loss: 0.5059 - acc: 0.7960\n",
      "Epoch 91/100\n",
      "8000/8000 [==============================] - 3s 318us/step - loss: 0.5060 - acc: 0.7960 1s - loss\n",
      "Epoch 92/100\n",
      "8000/8000 [==============================] - 3s 431us/step - loss: 0.5060 - acc: 0.7960\n",
      "Epoch 93/100\n",
      "8000/8000 [==============================] - 3s 376us/step - loss: 0.5060 - acc: 0.7960\n",
      "Epoch 94/100\n",
      "8000/8000 [==============================] - 3s 328us/step - loss: 0.5059 - acc: 0.7960 0s - loss: 0.5064 - acc\n",
      "Epoch 95/100\n",
      "8000/8000 [==============================] - 2s 307us/step - loss: 0.5059 - acc: 0.7960\n",
      "Epoch 96/100\n",
      "8000/8000 [==============================] - 2s 301us/step - loss: 0.5059 - acc: 0.7960 1s - loss: 0. - ETA: 0s - loss: 0.5047 - acc\n",
      "Epoch 97/100\n",
      "8000/8000 [==============================] - 3s 381us/step - loss: 0.5059 - acc: 0.7960\n",
      "Epoch 98/100\n",
      "8000/8000 [==============================] - 3s 340us/step - loss: 0.5060 - acc: 0.7960\n",
      "Epoch 99/100\n",
      "8000/8000 [==============================] - 3s 337us/step - loss: 0.5060 - acc: 0.7960 1s - loss: 0.4980 - acc: - ETA: 1s - loss:\n",
      "Epoch 100/100\n",
      "8000/8000 [==============================] - 3s 336us/step - loss: 0.5059 - acc: 0.7960\n"
     ]
    },
    {
     "data": {
      "text/plain": [
       "<keras.callbacks.History at 0x1a2d743908>"
      ]
     },
     "execution_count": 27,
     "metadata": {},
     "output_type": "execute_result"
    }
   ],
   "source": [
    "classifier.fit(X_train, y_train, batch_size = 10, epochs = 100)"
   ]
  },
  {
   "cell_type": "markdown",
   "metadata": {},
   "source": [
    "### Prediction The Test Set Result\n",
    "If results False customer don't leave bank"
   ]
  },
  {
   "cell_type": "code",
   "execution_count": 29,
   "metadata": {},
   "outputs": [
    {
     "data": {
      "text/plain": [
       "array([[False],\n",
       "       [False],\n",
       "       [False],\n",
       "       ...,\n",
       "       [False],\n",
       "       [False],\n",
       "       [False]])"
      ]
     },
     "execution_count": 29,
     "metadata": {},
     "output_type": "execute_result"
    }
   ],
   "source": [
    "y_pred = classifier.predict(X_test)\n",
    "y_pred =(y_pred > 0.5)\n",
    "y_pred"
   ]
  },
  {
   "cell_type": "code",
   "execution_count": 31,
   "metadata": {},
   "outputs": [
    {
     "data": {
      "text/plain": [
       "array([[1595,    0],\n",
       "       [ 405,    0]])"
      ]
     },
     "execution_count": 31,
     "metadata": {},
     "output_type": "execute_result"
    }
   ],
   "source": [
    "from sklearn.metrics import confusion_matrix\n",
    "cm = confusion_matrix(y_test, y_pred)\n",
    "cm"
   ]
  },
  {
   "cell_type": "code",
   "execution_count": 33,
   "metadata": {},
   "outputs": [
    {
     "name": "stdout",
     "output_type": "stream",
     "text": [
      "Accurracy: 0.7975 %\n"
     ]
    }
   ],
   "source": [
    "print('Accurracy:', 1595 / 2000, '%')"
   ]
  }
 ],
 "metadata": {
  "kernelspec": {
   "display_name": "Python 3",
   "language": "python",
   "name": "python3"
  },
  "language_info": {
   "codemirror_mode": {
    "name": "ipython",
    "version": 3
   },
   "file_extension": ".py",
   "mimetype": "text/x-python",
   "name": "python",
   "nbconvert_exporter": "python",
   "pygments_lexer": "ipython3",
   "version": "3.6.4"
  }
 },
 "nbformat": 4,
 "nbformat_minor": 2
}
